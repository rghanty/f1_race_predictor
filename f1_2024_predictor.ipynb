{
  "cells": [
    {
      "cell_type": "markdown",
      "metadata": {
        "id": "view-in-github",
        "colab_type": "text"
      },
      "source": [
        "<a href=\"https://colab.research.google.com/github/rghanty/f1_race_predictor/blob/main/f1_2024_predictor.ipynb\" target=\"_parent\"><img src=\"https://colab.research.google.com/assets/colab-badge.svg\" alt=\"Open In Colab\"/></a>"
      ]
    },
    {
      "cell_type": "code",
      "execution_count": null,
      "metadata": {
        "id": "ADWFvAqFeCTB"
      },
      "outputs": [],
      "source": [
        "import requests"
      ]
    },
    {
      "cell_type": "code",
      "execution_count": null,
      "metadata": {
        "id": "mlrawPL8eIZu"
      },
      "outputs": [],
      "source": [
        "url_22 = \"https://www.formula1.com/en/results.html/2022/races.html\"\n",
        "url_23 = \"https://www.formula1.com/en/results.html/2023/races.html\"\n",
        "url_24 = \"https://www.formula1.com/en/results.html/2024/races.html\""
      ]
    },
    {
      "cell_type": "code",
      "execution_count": null,
      "metadata": {
        "id": "gWJV_T33eL6V"
      },
      "outputs": [],
      "source": [
        "data_22 = requests.get(url_22, headers={\n",
        "        \"User-agent\": \"Mozilla/5.0 (Windows NT 6.1; Win64; x64) AppleWebKit/537.36 (KHTML, like Gecko) Chrome/64.0.3282.186 Safari/537.36\"})\n",
        "data_23 = requests.get(url_23, headers={\n",
        "        \"User-agent\": \"Mozilla/5.0 (Windows NT 6.1; Win64; x64) AppleWebKit/537.36 (KHTML, like Gecko) Chrome/64.0.3282.186 Safari/537.36\"})\n",
        "data_24 = requests.get(url_24, headers={\n",
        "        \"User-agent\": \"Mozilla/5.0 (Windows NT 6.1; Win64; x64) AppleWebKit/537.36 (KHTML, like Gecko) Chrome/64.0.3282.186 Safari/537.36\"})\n"
      ]
    },
    {
      "cell_type": "code",
      "execution_count": null,
      "metadata": {
        "id": "uU-Ge8PwnkDU"
      },
      "outputs": [],
      "source": []
    },
    {
      "cell_type": "code",
      "execution_count": null,
      "metadata": {
        "id": "-1dIV-6ZePDl"
      },
      "outputs": [],
      "source": [
        "from bs4 import BeautifulSoup\n"
      ]
    },
    {
      "cell_type": "code",
      "execution_count": null,
      "metadata": {
        "id": "Q9iqW6VTeQZr"
      },
      "outputs": [],
      "source": [
        "soup_22 = BeautifulSoup(data_22.content,'html.parser')\n",
        "soup_23 = BeautifulSoup(data_23.content,'html.parser')\n",
        "soup_24 = BeautifulSoup(data_24.content,'html.parser')"
      ]
    },
    {
      "cell_type": "code",
      "execution_count": null,
      "metadata": {
        "id": "e2wWvLyafCsZ"
      },
      "outputs": [],
      "source": [
        "races_22 = soup_22.select('table.resultsarchive-table')[0]\n",
        "races_23 = soup_23.select('table.resultsarchive-table')[0]\n",
        "races_24 = soup_24.select('table.resultsarchive-table')[0]"
      ]
    },
    {
      "cell_type": "code",
      "execution_count": null,
      "metadata": {
        "id": "NogS7-qYUZFM"
      },
      "outputs": [],
      "source": [
        "links_22 = races_22.find_all('a')\n",
        "links_23 = races_23.find_all('a')\n",
        "links_24 = races_24.find_all('a')\n"
      ]
    },
    {
      "cell_type": "code",
      "execution_count": null,
      "metadata": {
        "colab": {
          "base_uri": "https://localhost:8080/"
        },
        "id": "vkLYkzuuf6JV",
        "outputId": "2ceb3102-0dd3-4ed4-8341-8faa69a6a22a"
      },
      "outputs": [
        {
          "data": {
            "text/plain": [
              "['/en/results.html/2024/races/1229/bahrain/race-result.html',\n",
              " '/en/results.html/2024/races/1230/saudi-arabia/race-result.html',\n",
              " '/en/results.html/2024/races/1231/australia/race-result.html',\n",
              " '/en/results.html/2024/races/1232/japan/race-result.html',\n",
              " '/en/results.html/2024/races/1233/china/race-result.html',\n",
              " '/en/results.html/2024/races/1234/miami/race-result.html',\n",
              " '/en/results.html/2024/races/1235/italy/race-result.html',\n",
              " '/en/results.html/2024/races/1236/monaco/race-result.html',\n",
              " '/en/results.html/2024/races/1237/canada/race-result.html',\n",
              " '/en/results.html/2024/races/1238/spain/race-result.html']"
            ]
          },
          "execution_count": 41,
          "metadata": {},
          "output_type": "execute_result"
        }
      ],
      "source": [
        "links_22 = [l.get(\"href\") for l in links_22]\n",
        "links_23 = [l.get(\"href\") for l in links_23]\n",
        "links_24 = [l.get(\"href\") for l in links_24]\n"
      ]
    },
    {
      "cell_type": "code",
      "execution_count": null,
      "metadata": {
        "id": "3Hosn3tYhGe0"
      },
      "outputs": [],
      "source": [
        "links_22 = [f\"https://www.formula1.com{l}\" for l in links_22]\n",
        "links_23 = [f\"https://www.formula1.com{l}\" for l in links_23]\n",
        "links_24 = [f\"https://www.formula1.com{l}\" for l in links_24]"
      ]
    },
    {
      "cell_type": "code",
      "execution_count": null,
      "metadata": {
        "colab": {
          "base_uri": "https://localhost:8080/",
          "height": 423
        },
        "id": "m9n3RKophKG7",
        "outputId": "cf2e15d2-0638-4487-d05e-b23678bceddc"
      },
      "outputs": [
        {
          "data": {
            "application/vnd.google.colaboratory.intrinsic+json": {
              "summary": "{\n  \"name\": \"season_22_data\",\n  \"rows\": 440,\n  \"fields\": [\n    {\n      \"column\": \"Unnamed: 0\",\n      \"properties\": {\n        \"dtype\": \"number\",\n        \"std\": null,\n        \"min\": null,\n        \"max\": null,\n        \"num_unique_values\": 0,\n        \"samples\": [],\n        \"semantic_type\": \"\",\n        \"description\": \"\"\n      }\n    },\n    {\n      \"column\": \"Pos\",\n      \"properties\": {\n        \"dtype\": \"category\",\n        \"num_unique_values\": 40,\n        \"samples\": [],\n        \"semantic_type\": \"\",\n        \"description\": \"\"\n      }\n    },\n    {\n      \"column\": \"No\",\n      \"properties\": {\n        \"dtype\": \"number\",\n        \"std\": 21,\n        \"min\": 1,\n        \"max\": 77,\n        \"num_unique_values\": 22,\n        \"samples\": [],\n        \"semantic_type\": \"\",\n        \"description\": \"\"\n      }\n    },\n    {\n      \"column\": \"Driver\",\n      \"properties\": {\n        \"dtype\": \"category\",\n        \"num_unique_values\": 22,\n        \"samples\": [],\n        \"semantic_type\": \"\",\n        \"description\": \"\"\n      }\n    },\n    {\n      \"column\": \"Car\",\n      \"properties\": {\n        \"dtype\": \"category\",\n        \"num_unique_values\": 10,\n        \"samples\": [],\n        \"semantic_type\": \"\",\n        \"description\": \"\"\n      }\n    },\n    {\n      \"column\": \"Laps\",\n      \"properties\": {\n        \"dtype\": \"number\",\n        \"std\": 17,\n        \"min\": 0,\n        \"max\": 72,\n        \"num_unique_values\": 55,\n        \"samples\": [],\n        \"semantic_type\": \"\",\n        \"description\": \"\"\n      }\n    },\n    {\n      \"column\": \"Time/Retired\",\n      \"properties\": {\n        \"dtype\": \"string\",\n        \"num_unique_values\": 283,\n        \"samples\": [],\n        \"semantic_type\": \"\",\n        \"description\": \"\"\n      }\n    },\n    {\n      \"column\": \"PTS\",\n      \"properties\": {\n        \"dtype\": \"number\",\n        \"std\": 7,\n        \"min\": 0,\n        \"max\": 26,\n        \"num_unique_values\": 17,\n        \"samples\": [],\n        \"semantic_type\": \"\",\n        \"description\": \"\"\n      }\n    },\n    {\n      \"column\": \"Unnamed: 8\",\n      \"properties\": {\n        \"dtype\": \"number\",\n        \"std\": null,\n        \"min\": null,\n        \"max\": null,\n        \"num_unique_values\": 0,\n        \"samples\": [],\n        \"semantic_type\": \"\",\n        \"description\": \"\"\n      }\n    },\n    {\n      \"column\": \"Grand Prix\",\n      \"properties\": {\n        \"dtype\": \"category\",\n        \"num_unique_values\": 21,\n        \"samples\": [],\n        \"semantic_type\": \"\",\n        \"description\": \"\"\n      }\n    }\n  ]\n}",
              "type": "dataframe",
              "variable_name": "season_22_data"
            },
            "text/html": [
              "\n",
              "  <div id=\"df-07141e7d-ac4c-48b2-ba9a-68ebe13f8a43\" class=\"colab-df-container\">\n",
              "    <div>\n",
              "<style scoped>\n",
              "    .dataframe tbody tr th:only-of-type {\n",
              "        vertical-align: middle;\n",
              "    }\n",
              "\n",
              "    .dataframe tbody tr th {\n",
              "        vertical-align: top;\n",
              "    }\n",
              "\n",
              "    .dataframe thead th {\n",
              "        text-align: right;\n",
              "    }\n",
              "</style>\n",
              "<table border=\"1\" class=\"dataframe\">\n",
              "  <thead>\n",
              "    <tr style=\"text-align: right;\">\n",
              "      <th></th>\n",
              "      <th>Unnamed: 0</th>\n",
              "      <th>Pos</th>\n",
              "      <th>No</th>\n",
              "      <th>Driver</th>\n",
              "      <th>Car</th>\n",
              "      <th>Laps</th>\n",
              "      <th>Time/Retired</th>\n",
              "      <th>PTS</th>\n",
              "      <th>Unnamed: 8</th>\n",
              "      <th>Grand Prix</th>\n",
              "    </tr>\n",
              "  </thead>\n",
              "  <tbody>\n",
              "    <tr>\n",
              "      <th>0</th>\n",
              "      <td>NaN</td>\n",
              "      <td>1</td>\n",
              "      <td>16</td>\n",
              "      <td>Charles  Leclerc  LEC</td>\n",
              "      <td>Ferrari</td>\n",
              "      <td>57</td>\n",
              "      <td>1:37:33.584</td>\n",
              "      <td>26</td>\n",
              "      <td>NaN</td>\n",
              "      <td>bahrain</td>\n",
              "    </tr>\n",
              "    <tr>\n",
              "      <th>1</th>\n",
              "      <td>NaN</td>\n",
              "      <td>2</td>\n",
              "      <td>55</td>\n",
              "      <td>Carlos  Sainz  SAI</td>\n",
              "      <td>Ferrari</td>\n",
              "      <td>57</td>\n",
              "      <td>+5.598s</td>\n",
              "      <td>18</td>\n",
              "      <td>NaN</td>\n",
              "      <td>bahrain</td>\n",
              "    </tr>\n",
              "    <tr>\n",
              "      <th>2</th>\n",
              "      <td>NaN</td>\n",
              "      <td>3</td>\n",
              "      <td>44</td>\n",
              "      <td>Lewis  Hamilton  HAM</td>\n",
              "      <td>Mercedes</td>\n",
              "      <td>57</td>\n",
              "      <td>+9.675s</td>\n",
              "      <td>15</td>\n",
              "      <td>NaN</td>\n",
              "      <td>bahrain</td>\n",
              "    </tr>\n",
              "    <tr>\n",
              "      <th>3</th>\n",
              "      <td>NaN</td>\n",
              "      <td>4</td>\n",
              "      <td>63</td>\n",
              "      <td>George  Russell  RUS</td>\n",
              "      <td>Mercedes</td>\n",
              "      <td>57</td>\n",
              "      <td>+11.211s</td>\n",
              "      <td>12</td>\n",
              "      <td>NaN</td>\n",
              "      <td>bahrain</td>\n",
              "    </tr>\n",
              "    <tr>\n",
              "      <th>4</th>\n",
              "      <td>NaN</td>\n",
              "      <td>5</td>\n",
              "      <td>20</td>\n",
              "      <td>Kevin  Magnussen  MAG</td>\n",
              "      <td>Haas Ferrari</td>\n",
              "      <td>57</td>\n",
              "      <td>+14.754s</td>\n",
              "      <td>10</td>\n",
              "      <td>NaN</td>\n",
              "      <td>bahrain</td>\n",
              "    </tr>\n",
              "    <tr>\n",
              "      <th>...</th>\n",
              "      <td>...</td>\n",
              "      <td>...</td>\n",
              "      <td>...</td>\n",
              "      <td>...</td>\n",
              "      <td>...</td>\n",
              "      <td>...</td>\n",
              "      <td>...</td>\n",
              "      <td>...</td>\n",
              "      <td>...</td>\n",
              "      <td>...</td>\n",
              "    </tr>\n",
              "    <tr>\n",
              "      <th>15</th>\n",
              "      <td>NaN</td>\n",
              "      <td>16</td>\n",
              "      <td>47</td>\n",
              "      <td>Mick  Schumacher  MSC</td>\n",
              "      <td>Haas Ferrari</td>\n",
              "      <td>57</td>\n",
              "      <td>+1 lap</td>\n",
              "      <td>0</td>\n",
              "      <td>NaN</td>\n",
              "      <td>abu-dhabi</td>\n",
              "    </tr>\n",
              "    <tr>\n",
              "      <th>16</th>\n",
              "      <td>NaN</td>\n",
              "      <td>17</td>\n",
              "      <td>20</td>\n",
              "      <td>Kevin  Magnussen  MAG</td>\n",
              "      <td>Haas Ferrari</td>\n",
              "      <td>57</td>\n",
              "      <td>+1 lap</td>\n",
              "      <td>0</td>\n",
              "      <td>NaN</td>\n",
              "      <td>abu-dhabi</td>\n",
              "    </tr>\n",
              "    <tr>\n",
              "      <th>17</th>\n",
              "      <td>NaN</td>\n",
              "      <td>18</td>\n",
              "      <td>44</td>\n",
              "      <td>Lewis  Hamilton  HAM</td>\n",
              "      <td>Mercedes</td>\n",
              "      <td>55</td>\n",
              "      <td>DNF</td>\n",
              "      <td>0</td>\n",
              "      <td>NaN</td>\n",
              "      <td>abu-dhabi</td>\n",
              "    </tr>\n",
              "    <tr>\n",
              "      <th>18</th>\n",
              "      <td>NaN</td>\n",
              "      <td>19</td>\n",
              "      <td>6</td>\n",
              "      <td>Nicholas  Latifi  LAT</td>\n",
              "      <td>Williams Mercedes</td>\n",
              "      <td>55</td>\n",
              "      <td>DNF</td>\n",
              "      <td>0</td>\n",
              "      <td>NaN</td>\n",
              "      <td>abu-dhabi</td>\n",
              "    </tr>\n",
              "    <tr>\n",
              "      <th>19</th>\n",
              "      <td>NaN</td>\n",
              "      <td>NC</td>\n",
              "      <td>14</td>\n",
              "      <td>Fernando  Alonso  ALO</td>\n",
              "      <td>Alpine Renault</td>\n",
              "      <td>27</td>\n",
              "      <td>DNF</td>\n",
              "      <td>0</td>\n",
              "      <td>NaN</td>\n",
              "      <td>abu-dhabi</td>\n",
              "    </tr>\n",
              "  </tbody>\n",
              "</table>\n",
              "<p>440 rows × 10 columns</p>\n",
              "</div>\n",
              "    <div class=\"colab-df-buttons\">\n",
              "\n",
              "  <div class=\"colab-df-container\">\n",
              "    <button class=\"colab-df-convert\" onclick=\"convertToInteractive('df-07141e7d-ac4c-48b2-ba9a-68ebe13f8a43')\"\n",
              "            title=\"Convert this dataframe to an interactive table.\"\n",
              "            style=\"display:none;\">\n",
              "\n",
              "  <svg xmlns=\"http://www.w3.org/2000/svg\" height=\"24px\" viewBox=\"0 -960 960 960\">\n",
              "    <path d=\"M120-120v-720h720v720H120Zm60-500h600v-160H180v160Zm220 220h160v-160H400v160Zm0 220h160v-160H400v160ZM180-400h160v-160H180v160Zm440 0h160v-160H620v160ZM180-180h160v-160H180v160Zm440 0h160v-160H620v160Z\"/>\n",
              "  </svg>\n",
              "    </button>\n",
              "\n",
              "  <style>\n",
              "    .colab-df-container {\n",
              "      display:flex;\n",
              "      gap: 12px;\n",
              "    }\n",
              "\n",
              "    .colab-df-convert {\n",
              "      background-color: #E8F0FE;\n",
              "      border: none;\n",
              "      border-radius: 50%;\n",
              "      cursor: pointer;\n",
              "      display: none;\n",
              "      fill: #1967D2;\n",
              "      height: 32px;\n",
              "      padding: 0 0 0 0;\n",
              "      width: 32px;\n",
              "    }\n",
              "\n",
              "    .colab-df-convert:hover {\n",
              "      background-color: #E2EBFA;\n",
              "      box-shadow: 0px 1px 2px rgba(60, 64, 67, 0.3), 0px 1px 3px 1px rgba(60, 64, 67, 0.15);\n",
              "      fill: #174EA6;\n",
              "    }\n",
              "\n",
              "    .colab-df-buttons div {\n",
              "      margin-bottom: 4px;\n",
              "    }\n",
              "\n",
              "    [theme=dark] .colab-df-convert {\n",
              "      background-color: #3B4455;\n",
              "      fill: #D2E3FC;\n",
              "    }\n",
              "\n",
              "    [theme=dark] .colab-df-convert:hover {\n",
              "      background-color: #434B5C;\n",
              "      box-shadow: 0px 1px 3px 1px rgba(0, 0, 0, 0.15);\n",
              "      filter: drop-shadow(0px 1px 2px rgba(0, 0, 0, 0.3));\n",
              "      fill: #FFFFFF;\n",
              "    }\n",
              "  </style>\n",
              "\n",
              "    <script>\n",
              "      const buttonEl =\n",
              "        document.querySelector('#df-07141e7d-ac4c-48b2-ba9a-68ebe13f8a43 button.colab-df-convert');\n",
              "      buttonEl.style.display =\n",
              "        google.colab.kernel.accessAllowed ? 'block' : 'none';\n",
              "\n",
              "      async function convertToInteractive(key) {\n",
              "        const element = document.querySelector('#df-07141e7d-ac4c-48b2-ba9a-68ebe13f8a43');\n",
              "        const dataTable =\n",
              "          await google.colab.kernel.invokeFunction('convertToInteractive',\n",
              "                                                    [key], {});\n",
              "        if (!dataTable) return;\n",
              "\n",
              "        const docLinkHtml = 'Like what you see? Visit the ' +\n",
              "          '<a target=\"_blank\" href=https://colab.research.google.com/notebooks/data_table.ipynb>data table notebook</a>'\n",
              "          + ' to learn more about interactive tables.';\n",
              "        element.innerHTML = '';\n",
              "        dataTable['output_type'] = 'display_data';\n",
              "        await google.colab.output.renderOutput(dataTable, element);\n",
              "        const docLink = document.createElement('div');\n",
              "        docLink.innerHTML = docLinkHtml;\n",
              "        element.appendChild(docLink);\n",
              "      }\n",
              "    </script>\n",
              "  </div>\n",
              "\n",
              "\n",
              "<div id=\"df-04025855-d928-4664-9c29-abbd5f40e297\">\n",
              "  <button class=\"colab-df-quickchart\" onclick=\"quickchart('df-04025855-d928-4664-9c29-abbd5f40e297')\"\n",
              "            title=\"Suggest charts\"\n",
              "            style=\"display:none;\">\n",
              "\n",
              "<svg xmlns=\"http://www.w3.org/2000/svg\" height=\"24px\"viewBox=\"0 0 24 24\"\n",
              "     width=\"24px\">\n",
              "    <g>\n",
              "        <path d=\"M19 3H5c-1.1 0-2 .9-2 2v14c0 1.1.9 2 2 2h14c1.1 0 2-.9 2-2V5c0-1.1-.9-2-2-2zM9 17H7v-7h2v7zm4 0h-2V7h2v10zm4 0h-2v-4h2v4z\"/>\n",
              "    </g>\n",
              "</svg>\n",
              "  </button>\n",
              "\n",
              "<style>\n",
              "  .colab-df-quickchart {\n",
              "      --bg-color: #E8F0FE;\n",
              "      --fill-color: #1967D2;\n",
              "      --hover-bg-color: #E2EBFA;\n",
              "      --hover-fill-color: #174EA6;\n",
              "      --disabled-fill-color: #AAA;\n",
              "      --disabled-bg-color: #DDD;\n",
              "  }\n",
              "\n",
              "  [theme=dark] .colab-df-quickchart {\n",
              "      --bg-color: #3B4455;\n",
              "      --fill-color: #D2E3FC;\n",
              "      --hover-bg-color: #434B5C;\n",
              "      --hover-fill-color: #FFFFFF;\n",
              "      --disabled-bg-color: #3B4455;\n",
              "      --disabled-fill-color: #666;\n",
              "  }\n",
              "\n",
              "  .colab-df-quickchart {\n",
              "    background-color: var(--bg-color);\n",
              "    border: none;\n",
              "    border-radius: 50%;\n",
              "    cursor: pointer;\n",
              "    display: none;\n",
              "    fill: var(--fill-color);\n",
              "    height: 32px;\n",
              "    padding: 0;\n",
              "    width: 32px;\n",
              "  }\n",
              "\n",
              "  .colab-df-quickchart:hover {\n",
              "    background-color: var(--hover-bg-color);\n",
              "    box-shadow: 0 1px 2px rgba(60, 64, 67, 0.3), 0 1px 3px 1px rgba(60, 64, 67, 0.15);\n",
              "    fill: var(--button-hover-fill-color);\n",
              "  }\n",
              "\n",
              "  .colab-df-quickchart-complete:disabled,\n",
              "  .colab-df-quickchart-complete:disabled:hover {\n",
              "    background-color: var(--disabled-bg-color);\n",
              "    fill: var(--disabled-fill-color);\n",
              "    box-shadow: none;\n",
              "  }\n",
              "\n",
              "  .colab-df-spinner {\n",
              "    border: 2px solid var(--fill-color);\n",
              "    border-color: transparent;\n",
              "    border-bottom-color: var(--fill-color);\n",
              "    animation:\n",
              "      spin 1s steps(1) infinite;\n",
              "  }\n",
              "\n",
              "  @keyframes spin {\n",
              "    0% {\n",
              "      border-color: transparent;\n",
              "      border-bottom-color: var(--fill-color);\n",
              "      border-left-color: var(--fill-color);\n",
              "    }\n",
              "    20% {\n",
              "      border-color: transparent;\n",
              "      border-left-color: var(--fill-color);\n",
              "      border-top-color: var(--fill-color);\n",
              "    }\n",
              "    30% {\n",
              "      border-color: transparent;\n",
              "      border-left-color: var(--fill-color);\n",
              "      border-top-color: var(--fill-color);\n",
              "      border-right-color: var(--fill-color);\n",
              "    }\n",
              "    40% {\n",
              "      border-color: transparent;\n",
              "      border-right-color: var(--fill-color);\n",
              "      border-top-color: var(--fill-color);\n",
              "    }\n",
              "    60% {\n",
              "      border-color: transparent;\n",
              "      border-right-color: var(--fill-color);\n",
              "    }\n",
              "    80% {\n",
              "      border-color: transparent;\n",
              "      border-right-color: var(--fill-color);\n",
              "      border-bottom-color: var(--fill-color);\n",
              "    }\n",
              "    90% {\n",
              "      border-color: transparent;\n",
              "      border-bottom-color: var(--fill-color);\n",
              "    }\n",
              "  }\n",
              "</style>\n",
              "\n",
              "  <script>\n",
              "    async function quickchart(key) {\n",
              "      const quickchartButtonEl =\n",
              "        document.querySelector('#' + key + ' button');\n",
              "      quickchartButtonEl.disabled = true;  // To prevent multiple clicks.\n",
              "      quickchartButtonEl.classList.add('colab-df-spinner');\n",
              "      try {\n",
              "        const charts = await google.colab.kernel.invokeFunction(\n",
              "            'suggestCharts', [key], {});\n",
              "      } catch (error) {\n",
              "        console.error('Error during call to suggestCharts:', error);\n",
              "      }\n",
              "      quickchartButtonEl.classList.remove('colab-df-spinner');\n",
              "      quickchartButtonEl.classList.add('colab-df-quickchart-complete');\n",
              "    }\n",
              "    (() => {\n",
              "      let quickchartButtonEl =\n",
              "        document.querySelector('#df-04025855-d928-4664-9c29-abbd5f40e297 button');\n",
              "      quickchartButtonEl.style.display =\n",
              "        google.colab.kernel.accessAllowed ? 'block' : 'none';\n",
              "    })();\n",
              "  </script>\n",
              "</div>\n",
              "\n",
              "  <div id=\"id_ed7b3485-167b-4526-b650-4e9931083800\">\n",
              "    <style>\n",
              "      .colab-df-generate {\n",
              "        background-color: #E8F0FE;\n",
              "        border: none;\n",
              "        border-radius: 50%;\n",
              "        cursor: pointer;\n",
              "        display: none;\n",
              "        fill: #1967D2;\n",
              "        height: 32px;\n",
              "        padding: 0 0 0 0;\n",
              "        width: 32px;\n",
              "      }\n",
              "\n",
              "      .colab-df-generate:hover {\n",
              "        background-color: #E2EBFA;\n",
              "        box-shadow: 0px 1px 2px rgba(60, 64, 67, 0.3), 0px 1px 3px 1px rgba(60, 64, 67, 0.15);\n",
              "        fill: #174EA6;\n",
              "      }\n",
              "\n",
              "      [theme=dark] .colab-df-generate {\n",
              "        background-color: #3B4455;\n",
              "        fill: #D2E3FC;\n",
              "      }\n",
              "\n",
              "      [theme=dark] .colab-df-generate:hover {\n",
              "        background-color: #434B5C;\n",
              "        box-shadow: 0px 1px 3px 1px rgba(0, 0, 0, 0.15);\n",
              "        filter: drop-shadow(0px 1px 2px rgba(0, 0, 0, 0.3));\n",
              "        fill: #FFFFFF;\n",
              "      }\n",
              "    </style>\n",
              "    <button class=\"colab-df-generate\" onclick=\"generateWithVariable('season_22_data')\"\n",
              "            title=\"Generate code using this dataframe.\"\n",
              "            style=\"display:none;\">\n",
              "\n",
              "  <svg xmlns=\"http://www.w3.org/2000/svg\" height=\"24px\"viewBox=\"0 0 24 24\"\n",
              "       width=\"24px\">\n",
              "    <path d=\"M7,19H8.4L18.45,9,17,7.55,7,17.6ZM5,21V16.75L18.45,3.32a2,2,0,0,1,2.83,0l1.4,1.43a1.91,1.91,0,0,1,.58,1.4,1.91,1.91,0,0,1-.58,1.4L9.25,21ZM18.45,9,17,7.55Zm-12,3A5.31,5.31,0,0,0,4.9,8.1,5.31,5.31,0,0,0,1,6.5,5.31,5.31,0,0,0,4.9,4.9,5.31,5.31,0,0,0,6.5,1,5.31,5.31,0,0,0,8.1,4.9,5.31,5.31,0,0,0,12,6.5,5.46,5.46,0,0,0,6.5,12Z\"/>\n",
              "  </svg>\n",
              "    </button>\n",
              "    <script>\n",
              "      (() => {\n",
              "      const buttonEl =\n",
              "        document.querySelector('#id_ed7b3485-167b-4526-b650-4e9931083800 button.colab-df-generate');\n",
              "      buttonEl.style.display =\n",
              "        google.colab.kernel.accessAllowed ? 'block' : 'none';\n",
              "\n",
              "      buttonEl.onclick = () => {\n",
              "        google.colab.notebook.generateWithVariable('season_22_data');\n",
              "      }\n",
              "      })();\n",
              "    </script>\n",
              "  </div>\n",
              "\n",
              "    </div>\n",
              "  </div>\n"
            ],
            "text/plain": [
              "    Unnamed: 0 Pos  No                 Driver                Car  Laps  \\\n",
              "0          NaN   1  16  Charles  Leclerc  LEC            Ferrari    57   \n",
              "1          NaN   2  55     Carlos  Sainz  SAI            Ferrari    57   \n",
              "2          NaN   3  44   Lewis  Hamilton  HAM           Mercedes    57   \n",
              "3          NaN   4  63   George  Russell  RUS           Mercedes    57   \n",
              "4          NaN   5  20  Kevin  Magnussen  MAG       Haas Ferrari    57   \n",
              "..         ...  ..  ..                    ...                ...   ...   \n",
              "15         NaN  16  47  Mick  Schumacher  MSC       Haas Ferrari    57   \n",
              "16         NaN  17  20  Kevin  Magnussen  MAG       Haas Ferrari    57   \n",
              "17         NaN  18  44   Lewis  Hamilton  HAM           Mercedes    55   \n",
              "18         NaN  19   6  Nicholas  Latifi  LAT  Williams Mercedes    55   \n",
              "19         NaN  NC  14  Fernando  Alonso  ALO     Alpine Renault    27   \n",
              "\n",
              "   Time/Retired  PTS  Unnamed: 8 Grand Prix  \n",
              "0   1:37:33.584   26         NaN    bahrain  \n",
              "1       +5.598s   18         NaN    bahrain  \n",
              "2       +9.675s   15         NaN    bahrain  \n",
              "3      +11.211s   12         NaN    bahrain  \n",
              "4      +14.754s   10         NaN    bahrain  \n",
              "..          ...  ...         ...        ...  \n",
              "15       +1 lap    0         NaN  abu-dhabi  \n",
              "16       +1 lap    0         NaN  abu-dhabi  \n",
              "17          DNF    0         NaN  abu-dhabi  \n",
              "18          DNF    0         NaN  abu-dhabi  \n",
              "19          DNF    0         NaN  abu-dhabi  \n",
              "\n",
              "[440 rows x 10 columns]"
            ]
          },
          "execution_count": 46,
          "metadata": {},
          "output_type": "execute_result"
        }
      ],
      "source": [
        "season_22_data = []\n",
        "for link in links_22:\n",
        "  data = requests.get(link, headers={\"User-agent\": \"Mozilla/5.0 (Windows NT 6.1; Win64; x64) AppleWebKit/537.36 (KHTML, like Gecko) Chrome/64.0.3282.186 Safari/537.36\"})\n",
        "  race_table = pd.read_html(data.text)[0]\n",
        "  race_table[\"Grand Prix\"] = link.split(\"/\")[-2]\n",
        "  season_22_data.append(race_table)\n",
        "\n",
        "season_22_data = pd.concat(season_22_data)\n"
      ]
    },
    {
      "cell_type": "code",
      "execution_count": null,
      "metadata": {
        "id": "r24qn4GfWn69"
      },
      "outputs": [],
      "source": [
        "season_23_data = []\n",
        "for link in links_23:\n",
        "  data = requests.get(link, headers={\"User-agent\": \"Mozilla/5.0 (Windows NT 6.1; Win64; x64) AppleWebKit/537.36 (KHTML, like Gecko) Chrome/64.0.3282.186 Safari/537.36\"})\n",
        "  race_table = pd.read_html(data.text)[0]\n",
        "  race_table[\"Grand Prix\"] = link.split(\"/\")[-2]\n",
        "  season_23_data.append(race_table)\n",
        "\n",
        "season_23_data = pd.concat(season_23_data)\n",
        "\n",
        "season_24_data = []\n",
        "for link in links_24:\n",
        "  data = requests.get(link, headers={\"User-agent\": \"Mozilla/5.0 (Windows NT 6.1; Win64; x64) AppleWebKit/537.36 (KHTML, like Gecko) Chrome/64.0.3282.186 Safari/537.36\"})\n",
        "  race_table = pd.read_html(data.text)[0]\n",
        "  race_table[\"Grand Prix\"] = link.split(\"/\")[-2]\n",
        "  season_24_data.append(race_table)\n",
        "\n",
        "season_24_data = pd.concat(season_24_data)"
      ]
    },
    {
      "cell_type": "code",
      "execution_count": null,
      "metadata": {
        "id": "89M6k_F5W9mr"
      },
      "outputs": [],
      "source": [
        "all_races = [season_22_data,season_23_data,season_24_data]\n",
        "all_races = pd.concat(all_races)\n"
      ]
    },
    {
      "cell_type": "code",
      "execution_count": null,
      "metadata": {
        "id": "eh0meSJ5XGNK"
      },
      "outputs": [],
      "source": [
        "all_races.drop(columns=['Unnamed: 8'], inplace=True)"
      ]
    },
    {
      "cell_type": "code",
      "execution_count": null,
      "metadata": {
        "id": "zOvchuA8XjEi"
      },
      "outputs": [],
      "source": [
        "all_races.to_csv(\"races.csv\")"
      ]
    },
    {
      "cell_type": "code",
      "execution_count": null,
      "metadata": {
        "id": "SP8Z6Jv1hK5j"
      },
      "outputs": [],
      "source": [
        "import pandas as pd"
      ]
    },
    {
      "cell_type": "code",
      "execution_count": null,
      "metadata": {
        "id": "eBhNBta3iEe-"
      },
      "outputs": [],
      "source": [
        "races = pd.read_csv(\"races.csv\")"
      ]
    },
    {
      "cell_type": "code",
      "execution_count": null,
      "metadata": {
        "id": "DPiLshG9Nq_o"
      },
      "outputs": [],
      "source": [
        "races.drop(columns=[\"Unnamed: 0\"], inplace=True)"
      ]
    },
    {
      "cell_type": "code",
      "execution_count": null,
      "metadata": {
        "colab": {
          "base_uri": "https://localhost:8080/"
        },
        "id": "Pr14in_TZp5x",
        "outputId": "8547a753-1bb8-4a7b-bc39-d7795997a3d0"
      },
      "outputs": [
        {
          "data": {
            "text/plain": [
              "Unnamed: 0.1      int64\n",
              "Unnamed: 0      float64\n",
              "Pos              object\n",
              "No                int64\n",
              "Driver           object\n",
              "Car              object\n",
              "Laps              int64\n",
              "Time/Retired     object\n",
              "PTS               int64\n",
              "Grand Prix       object\n",
              "dtype: object"
            ]
          },
          "execution_count": 98,
          "metadata": {},
          "output_type": "execute_result"
        }
      ],
      "source": [
        "races[\"Pos\"].replace(\"NC\", 0, inplace=True)\n",
        "races[\"Pos\"].replace(\"DQ\", 0, inplace=True)\n",
        "races.dtypes"
      ]
    },
    {
      "cell_type": "code",
      "execution_count": null,
      "metadata": {
        "id": "cO3bQUsBNspZ"
      },
      "outputs": [],
      "source": [
        "races[\"Pos\"] = races[\"Pos\"].astype(\"int\")\n",
        "races[\"Driver_Code\"] = races[\"Driver\"].astype(\"category\").cat.codes\n",
        "races[\"Car_Code\"] = races[\"Car\"].astype(\"category\").cat.codes\n",
        "races[\"Grand_Prix_Code\"] = races[\"Grand Prix\"].astype(\"category\").cat.codes\n",
        "races['Pos_Car'] = races['Pos'] * races['Car_Code']\n",
        "races['Pos_GP'] = races['Pos'] * races['Grand_Prix_Code']\n",
        "races['Pos_Driver'] = races['Pos'] * races['Driver_Code']\n"
      ]
    },
    {
      "cell_type": "code",
      "execution_count": null,
      "metadata": {
        "collapsed": true,
        "id": "NZXoZ5VhasAr"
      },
      "outputs": [],
      "source": [
        "from sklearn.ensemble import RandomForestClassifier\n",
        "from sklearn.model_selection import GridSearchCV\n",
        "\n",
        "# Define parameter grid\n",
        "param_grid = {\n",
        "    'n_estimators': [50, 100, 200],\n",
        "    'min_samples_leaf': [1, 5, 10],\n",
        "    'max_features': ['sqrt', 'log2']\n",
        "}\n",
        "\n",
        "train = races.iloc[:800]\n",
        "test = races.iloc[800:]\n",
        "predictors = [\"Car_Code\", \"Pos\", \"Pos_Car\",\"Pos_GP\",\"Pos_Driver\"]\n",
        "target = \"Driver_Code\"\n",
        "# Initialize GridSearchCV\n",
        "grid_search = GridSearchCV(estimator=RandomForestClassifier(), param_grid=param_grid, cv=5, scoring='accuracy')\n",
        "\n",
        "# Fit to the training data\n",
        "grid_search.fit(train[predictors], train[\"Driver_Code\"])\n",
        "\n",
        "# Get the best parameters\n",
        "best_params = grid_search.best_params_\n",
        "\n",
        "rf = RandomForestClassifier(**best_params)\n",
        "rf.fit(train[predictors], train[target])\n",
        "\n",
        "# Make predictions on the test set\n",
        "preds = rf.predict(test[predictors])"
      ]
    },
    {
      "cell_type": "code",
      "execution_count": null,
      "metadata": {
        "id": "xbnBx2VLTKVL"
      },
      "outputs": [],
      "source": [
        "from sklearn.metrics import accuracy_score\n",
        "accuracy = accuracy_score(test[\"Driver_Code\"], preds)"
      ]
    },
    {
      "cell_type": "code",
      "execution_count": null,
      "metadata": {
        "colab": {
          "base_uri": "https://localhost:8080/"
        },
        "id": "Jr3Pzp6qTRMR",
        "outputId": "7c7cbc19-c30b-4704-ca49-19fa8ff2b023"
      },
      "outputs": [
        {
          "data": {
            "text/plain": [
              "0.7410071942446043"
            ]
          },
          "execution_count": 183,
          "metadata": {},
          "output_type": "execute_result"
        }
      ],
      "source": [
        "accuracy"
      ]
    },
    {
      "cell_type": "code",
      "execution_count": null,
      "metadata": {
        "colab": {
          "base_uri": "https://localhost:8080/"
        },
        "collapsed": true,
        "id": "qdZ84wizTb2f",
        "outputId": "ec993d46-6ea7-498c-9d86-b6f189ed89e7"
      },
      "outputs": [
        {
          "name": "stderr",
          "output_type": "stream",
          "text": [
            "/usr/local/lib/python3.10/dist-packages/sklearn/metrics/_classification.py:1344: UndefinedMetricWarning: Precision is ill-defined and being set to 0.0 in labels with no predicted samples. Use `zero_division` parameter to control this behavior.\n",
            "  _warn_prf(average, modifier, msg_start, len(result))\n"
          ]
        },
        {
          "data": {
            "text/plain": [
              "0.7263544493575452"
            ]
          },
          "execution_count": 184,
          "metadata": {},
          "output_type": "execute_result"
        }
      ],
      "source": [
        "from sklearn.metrics import precision_score\n",
        "precision_score(test[\"Driver_Code\"], preds, average=\"macro\")"
      ]
    },
    {
      "cell_type": "code",
      "source": [
        "test['Driver'].unique(), test['Driver_Code'].unique(), test['Car'].unique(), test['Car_Code'].unique()"
      ],
      "metadata": {
        "id": "hV-Vt9MW7cNr"
      },
      "execution_count": null,
      "outputs": []
    },
    {
      "cell_type": "code",
      "execution_count": null,
      "metadata": {
        "id": "C0aiUs5DT4Vb",
        "colab": {
          "base_uri": "https://localhost:8080/"
        },
        "outputId": "dabaca4a-e5ef-4cee-a037-8463cf9cbb5d"
      },
      "outputs": [
        {
          "output_type": "stream",
          "name": "stderr",
          "text": [
            "/usr/local/lib/python3.10/dist-packages/sklearn/ensemble/_forest.py:424: FutureWarning: `max_features='auto'` has been deprecated in 1.1 and will be removed in 1.3. To keep the past behaviour, explicitly set `max_features='sqrt'` or remove this parameter as it is also the default value for RandomForestClassifiers and ExtraTreesClassifiers.\n",
            "  warn(\n"
          ]
        }
      ],
      "source": [
        "import numpy as np\n",
        "rf = RandomForestClassifier(n_estimators=100, min_samples_leaf=5, max_features='auto')\n",
        "rf.fit(test[[\"Pos\", \"Pos_Car\",\"Pos_GP\"]], test[target])\n",
        "\n",
        "upcoming_races = pd.read_csv(\"upcoming_races.csv\")\n",
        "upcoming_races[\"Pos\"].replace([\"NC\", \"DQ\"], 0, inplace=True)\n",
        "\n",
        "\n",
        "upcoming_races[\"Driver_Code\"] = upcoming_races[\"Driver\"].astype(\"category\").cat.codes\n",
        "upcoming_races[\"Car_Code\"] = upcoming_races[\"Car\"].astype(\"category\").cat.codes\n",
        "upcoming_races[\"Grand_Prix_Code\"] = upcoming_races[\"Grand Prix\"].astype(\"category\").cat.codes\n",
        "\n",
        "# Feature engineering for upcoming races data\n",
        "upcoming_races['Pos_Car'] = upcoming_races['Pos'] * upcoming_races['Car_Code']\n",
        "upcoming_races['Pos_GP'] = upcoming_races['Pos'] * upcoming_races['Grand_Prix_Code']\n",
        "upcoming_races['Pos_Driver'] = upcoming_races['Pos'] * upcoming_races['Driver_Code']\n",
        "\n"
      ]
    },
    {
      "cell_type": "code",
      "execution_count": null,
      "metadata": {
        "id": "AjYEPC65ocl4"
      },
      "outputs": [],
      "source": [
        "upcoming_preds = rf.predict(upcoming_races[[\"Pos\", \"Pos_Car\",\"Pos_GP\"]])\n",
        "driver_code_to_name = dict(enumerate(races[\"Driver\"].astype(\"category\").cat.categories))\n",
        "upcoming_races['Predicted_Winner'] = np.vectorize(driver_code_to_name.get)(upcoming_preds)"
      ]
    },
    {
      "cell_type": "code",
      "execution_count": null,
      "metadata": {
        "id": "x1mzbI1ooozI",
        "colab": {
          "base_uri": "https://localhost:8080/"
        },
        "outputId": "ebe2944f-7a4d-40e4-d0fd-65b60b007cfc"
      },
      "outputs": [
        {
          "output_type": "stream",
          "name": "stdout",
          "text": [
            "       Grand Prix       Predicted_Winner\n",
            "0         austria   Max  Verstappen  VER\n",
            "1   great-britain   Max  Verstappen  VER\n",
            "2         hungary     Pierre  Gasly  GAS\n",
            "3         belgium     Lando  Norris  NOR\n",
            "4     netherlands   Max  Verstappen  VER\n",
            "5           italy  Charles  Leclerc  LEC\n",
            "6      azerbaijan   Max  Verstappen  VER\n",
            "7       singapore   Max  Verstappen  VER\n",
            "8   united-states     Carlos  Sainz  SAI\n",
            "9          mexico  Charles  Leclerc  LEC\n",
            "10         brazil     Esteban  Ocon  OCO\n",
            "11      las-vegas  Charles  Leclerc  LEC\n",
            "12          qatar  Charles  Leclerc  LEC\n",
            "13      abu-dhabi   Max  Verstappen  VER\n"
          ]
        }
      ],
      "source": [
        "print(upcoming_races[['Grand Prix', 'Predicted_Winner']])\n"
      ]
    },
    {
      "cell_type": "code",
      "source": [],
      "metadata": {
        "id": "29v0bWV9wujl"
      },
      "execution_count": null,
      "outputs": []
    }
  ],
  "metadata": {
    "colab": {
      "provenance": [],
      "authorship_tag": "ABX9TyN1Kmxtx51CKB9XeON8G7tJ",
      "include_colab_link": true
    },
    "kernelspec": {
      "display_name": "Python 3",
      "name": "python3"
    },
    "language_info": {
      "name": "python"
    }
  },
  "nbformat": 4,
  "nbformat_minor": 0
}